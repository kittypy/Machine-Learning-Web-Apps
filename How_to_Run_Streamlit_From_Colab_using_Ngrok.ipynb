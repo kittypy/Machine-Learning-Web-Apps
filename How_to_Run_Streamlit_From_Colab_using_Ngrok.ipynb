{
  "nbformat": 4,
  "nbformat_minor": 0,
  "metadata": {
    "colab": {
      "name": "How_to_Run_Streamlit_From_Colab_using_Ngrok.ipynb",
      "provenance": [],
      "collapsed_sections": [],
      "include_colab_link": true
    },
    "kernelspec": {
      "name": "python3",
      "display_name": "Python 3"
    }
  },
  "cells": [
    {
      "cell_type": "markdown",
      "metadata": {
        "id": "view-in-github",
        "colab_type": "text"
      },
      "source": [
        "<a href=\"https://colab.research.google.com/github/kittypy/Machine-Learning-Web-Apps/blob/master/How_to_Run_Streamlit_From_Colab_using_Ngrok.ipynb\" target=\"_parent\"><img src=\"https://colab.research.google.com/assets/colab-badge.svg\" alt=\"Open In Colab\"/></a>"
      ]
    },
    {
      "cell_type": "code",
      "metadata": {
        "id": "oK7C-kaNjTiW"
      },
      "source": [
        ""
      ],
      "execution_count": null,
      "outputs": []
    },
    {
      "cell_type": "markdown",
      "metadata": {
        "id": "9JBWyuH1tuIN"
      },
      "source": [
        "### How to Run Streamlit from Colab\n",
        "\n",
        "##### Requirements\n",
        "+ streamlit\n",
        "+ pyngrok\n",
        "+ nohub/background\n",
        "\n",
        "#### Step 1\n",
        "+ Create An Account on https://ngrok.com/\n",
        "\n",
        "#### Step 2\n",
        "+ install streamlit and pyngrok\n",
        "\n",
        "#### Step 3\n",
        "+ write your app to your colab sandbox\n",
        "+ %%writefile app.py\n",
        "\n",
        "#### Step 4\n",
        "+ run streamlit from background using nohub/disown or basic linux\n",
        "\n",
        "#### Step 5\n",
        "+ using pyngrok enter the streamlit port as below\n",
        "\n",
        "#### Finished"
      ]
    },
    {
      "cell_type": "code",
      "metadata": {
        "id": "hbvA3rXekdqd"
      },
      "source": [
        "!pip install streamlit"
      ],
      "execution_count": null,
      "outputs": []
    },
    {
      "cell_type": "code",
      "metadata": {
        "id": "fWEypHOAkhMX"
      },
      "source": [
        "!pip install pyngrok"
      ],
      "execution_count": null,
      "outputs": []
    },
    {
      "cell_type": "code",
      "metadata": {
        "id": "Tsmuc-USkoWi",
        "colab": {
          "base_uri": "https://localhost:8080/"
        },
        "outputId": "709398bf-e0f3-4bf3-d4b5-cb3cbedb1d41"
      },
      "source": [
        "%%writefile app.py\n",
        "import streamlit as st\n",
        "PAGE_CONFIG = {\"page_title\":\"StColab.io\",\"page_icon\":\":smiley:\",\"layout\":\"centered\"}\n",
        "# st.beta_set_page_config(**PAGE_CONFIG)\n",
        "\n",
        "\n",
        "def main():\n",
        "\tst.title(\"Awesome Streamlit for ML\")\n",
        "\tst.subheader(\"How to run streamlit from colab\")\n",
        "\n",
        "\n",
        "\tmenu = [\"Home\",\"About\"]\n",
        "\tchoice = st.sidebar.selectbox('Menu',menu)\n",
        "\tif choice == 'Home':\n",
        "\t\tst.subheader(\"Streamlit From Colab\")\t\n",
        "\n",
        "\n",
        "\n",
        "if __name__ == '__main__':\n",
        "\tmain()"
      ],
      "execution_count": null,
      "outputs": [
        {
          "output_type": "stream",
          "text": [
            "Overwriting app.py\n"
          ],
          "name": "stdout"
        }
      ]
    },
    {
      "cell_type": "code",
      "metadata": {
        "id": "rloWDiqEmcyb",
        "colab": {
          "base_uri": "https://localhost:8080/"
        },
        "outputId": "186a3966-fab5-4fa7-cd02-be967b662816"
      },
      "source": [
        "# check if app has been saved to your sandbox\n",
        "!ls"
      ],
      "execution_count": null,
      "outputs": [
        {
          "output_type": "stream",
          "text": [
            "app.py\tsample_data\n"
          ],
          "name": "stdout"
        }
      ]
    },
    {
      "cell_type": "code",
      "metadata": {
        "id": "Cq4mCo9rmcfJ",
        "colab": {
          "base_uri": "https://localhost:8080/"
        },
        "outputId": "96b79e94-b79f-4153-c93e-d54aeab3d785"
      },
      "source": [
        "!ngrok authtoken 1qfCbci8y2N5Oz0834EDDV6oJ1C_4c9FEoScD1FttevCPAjht"
      ],
      "execution_count": null,
      "outputs": [
        {
          "output_type": "stream",
          "text": [
            "Authtoken saved to configuration file: /root/.ngrok2/ngrok.yml\n"
          ],
          "name": "stdout"
        }
      ]
    },
    {
      "cell_type": "code",
      "metadata": {
        "id": "Cxz1kPPnm27L",
        "colab": {
          "base_uri": "https://localhost:8080/"
        },
        "outputId": "b859fba7-7fb5-49c7-903d-fb46b147a7e9"
      },
      "source": [
        "!ngrok"
      ],
      "execution_count": null,
      "outputs": [
        {
          "output_type": "stream",
          "text": [
            "NAME:\n",
            "   ngrok - tunnel local ports to public URLs and inspect traffic\n",
            "\n",
            "DESCRIPTION:\n",
            "    ngrok exposes local networked services behinds NATs and firewalls to the\n",
            "    public internet over a secure tunnel. Share local websites, build/test\n",
            "    webhook consumers and self-host personal services.\n",
            "    Detailed help for each command is available with 'ngrok help <command>'.\n",
            "    Open http://localhost:4040 for ngrok's web interface to inspect traffic.\n",
            "\n",
            "EXAMPLES:\n",
            "    ngrok http 80                    # secure public URL for port 80 web server\n",
            "    ngrok http -subdomain=baz 8080   # port 8080 available at baz.ngrok.io\n",
            "    ngrok http foo.dev:80            # tunnel to host:port instead of localhost\n",
            "    ngrok http https://localhost     # expose a local https server\n",
            "    ngrok tcp 22                     # tunnel arbitrary TCP traffic to port 22\n",
            "    ngrok tls -hostname=foo.com 443  # TLS traffic for foo.com to port 443\n",
            "    ngrok start foo bar baz          # start tunnels from the configuration file\n",
            "\n",
            "VERSION:\n",
            "   2.3.38\n",
            "\n",
            "AUTHOR:\n",
            "  inconshreveable - <alan@ngrok.com>\n",
            "\n",
            "COMMANDS:\n",
            "   authtoken\tsave authtoken to configuration file\n",
            "   credits\tprints author and licensing information\n",
            "   http\t\tstart an HTTP tunnel\n",
            "   start\tstart tunnels by name from the configuration file\n",
            "   tcp\t\tstart a TCP tunnel\n",
            "   tls\t\tstart a TLS tunnel\n",
            "   update\tupdate ngrok to the latest version\n",
            "   version\tprint the version string\n",
            "   help\t\tShows a list of commands or help for one command\n",
            "\n",
            "PYNGROK VERSION:\n",
            "   5.0.5\n"
          ],
          "name": "stdout"
        }
      ]
    },
    {
      "cell_type": "code",
      "metadata": {
        "id": "eP9l5vovm3fg"
      },
      "source": [
        "from pyngrok import ngrok"
      ],
      "execution_count": null,
      "outputs": []
    },
    {
      "cell_type": "code",
      "metadata": {
        "id": "grqFgQCTnLGs"
      },
      "source": [
        "# run streamlit in the background using nohub or alternative linux command\n",
        "# !nohub streamlit run app.py\n",
        "# OSError(\"Background processes not supported.\") Work Around:\n",
        "# import os\n",
        "# get_ipython().system = os.system\n",
        "!streamlit run app.py>/dev/null&"
      ],
      "execution_count": null,
      "outputs": []
    },
    {
      "cell_type": "code",
      "metadata": {
        "id": "UIZ1DA9pnfrz",
        "colab": {
          "base_uri": "https://localhost:8080/"
        },
        "outputId": "6a325538-fb77-453b-c3dc-d518f537d5c5"
      },
      "source": [
        "# check  process number streamlit is running on\n",
        "!pgrep streamlit\n"
      ],
      "execution_count": 29,
      "outputs": [
        {
          "output_type": "stream",
          "text": [
            "230\n",
            "282\n"
          ],
          "name": "stdout"
        }
      ]
    },
    {
      "cell_type": "code",
      "metadata": {
        "id": "dZEjOz9PP0ZG"
      },
      "source": [
        "ngrok.connect?"
      ],
      "execution_count": null,
      "outputs": []
    },
    {
      "cell_type": "code",
      "metadata": {
        "id": "GzYgsPqbnB69"
      },
      "source": [
        "# Setup a tunnel to the streamlit port 8501\n",
        "publ_url = ngrok.connect(addr='8501')"
      ],
      "execution_count": null,
      "outputs": []
    },
    {
      "cell_type": "code",
      "metadata": {
        "id": "ifDhFysynrT4",
        "colab": {
          "base_uri": "https://localhost:8080/"
        },
        "outputId": "70ae4790-e678-471a-da35-00e1dd1f4fe7"
      },
      "source": [
        "publ_url"
      ],
      "execution_count": null,
      "outputs": [
        {
          "output_type": "execute_result",
          "data": {
            "text/plain": [
              "<NgrokTunnel: \"http://b97f2a9bcd32.ngrok.io\" -> \"http://localhost:8501\">"
            ]
          },
          "metadata": {
            "tags": []
          },
          "execution_count": 27
        }
      ]
    },
    {
      "cell_type": "code",
      "metadata": {
        "id": "yh275M8epBn4"
      },
      "source": [
        "# Shutdown Streamlit\n",
        "!kill 282"
      ],
      "execution_count": 31,
      "outputs": []
    },
    {
      "cell_type": "code",
      "metadata": {
        "id": "WNYYwCNHpBes"
      },
      "source": [
        "# Stop ngrok\n",
        "ngrok.kill()"
      ],
      "execution_count": 32,
      "outputs": []
    },
    {
      "cell_type": "code",
      "metadata": {
        "id": "Mo3ne8-7nw7O"
      },
      "source": [
        ""
      ],
      "execution_count": null,
      "outputs": []
    }
  ]
}